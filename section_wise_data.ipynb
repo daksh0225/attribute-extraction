{
  "nbformat": 4,
  "nbformat_minor": 0,
  "metadata": {
    "colab": {
      "name": "section_wise_data.ipynb",
      "provenance": [],
      "collapsed_sections": []
    },
    "kernelspec": {
      "name": "python3",
      "display_name": "Python 3"
    },
    "language_info": {
      "name": "python"
    },
    "widgets": {
      "application/vnd.jupyter.widget-state+json": {
        "80761bd850a24d86b949ad9b8e9db146": {
          "model_module": "@jupyter-widgets/controls",
          "model_name": "HBoxModel",
          "model_module_version": "1.5.0",
          "state": {
            "_view_name": "HBoxView",
            "_dom_classes": [],
            "_model_name": "HBoxModel",
            "_view_module": "@jupyter-widgets/controls",
            "_model_module_version": "1.5.0",
            "_view_count": null,
            "_view_module_version": "1.5.0",
            "box_style": "",
            "layout": "IPY_MODEL_bc8160269b81424eac718cf3e2445bda",
            "_model_module": "@jupyter-widgets/controls",
            "children": [
              "IPY_MODEL_509e1e8af2fe4df0b5a99bc1c84eb912",
              "IPY_MODEL_83b5bbe6e24c4a21a06b6cc5350da86b",
              "IPY_MODEL_3afdc917f1e34848a0715299af670a6c"
            ]
          }
        },
        "bc8160269b81424eac718cf3e2445bda": {
          "model_module": "@jupyter-widgets/base",
          "model_name": "LayoutModel",
          "model_module_version": "1.2.0",
          "state": {
            "_view_name": "LayoutView",
            "grid_template_rows": null,
            "right": null,
            "justify_content": null,
            "_view_module": "@jupyter-widgets/base",
            "overflow": null,
            "_model_module_version": "1.2.0",
            "_view_count": null,
            "flex_flow": null,
            "width": null,
            "min_width": null,
            "border": null,
            "align_items": null,
            "bottom": null,
            "_model_module": "@jupyter-widgets/base",
            "top": null,
            "grid_column": null,
            "overflow_y": null,
            "overflow_x": null,
            "grid_auto_flow": null,
            "grid_area": null,
            "grid_template_columns": null,
            "flex": null,
            "_model_name": "LayoutModel",
            "justify_items": null,
            "grid_row": null,
            "max_height": null,
            "align_content": null,
            "visibility": null,
            "align_self": null,
            "height": null,
            "min_height": null,
            "padding": null,
            "grid_auto_rows": null,
            "grid_gap": null,
            "max_width": null,
            "order": null,
            "_view_module_version": "1.2.0",
            "grid_template_areas": null,
            "object_position": null,
            "object_fit": null,
            "grid_auto_columns": null,
            "margin": null,
            "display": null,
            "left": null
          }
        },
        "509e1e8af2fe4df0b5a99bc1c84eb912": {
          "model_module": "@jupyter-widgets/controls",
          "model_name": "HTMLModel",
          "model_module_version": "1.5.0",
          "state": {
            "_view_name": "HTMLView",
            "style": "IPY_MODEL_49ab32c620864990b77de07a46b92d0c",
            "_dom_classes": [],
            "description": "",
            "_model_name": "HTMLModel",
            "placeholder": "​",
            "_view_module": "@jupyter-widgets/controls",
            "_model_module_version": "1.5.0",
            "value": "",
            "_view_count": null,
            "_view_module_version": "1.5.0",
            "description_tooltip": null,
            "_model_module": "@jupyter-widgets/controls",
            "layout": "IPY_MODEL_e647209ef8b843989bce53e24ac7dac8"
          }
        },
        "83b5bbe6e24c4a21a06b6cc5350da86b": {
          "model_module": "@jupyter-widgets/controls",
          "model_name": "FloatProgressModel",
          "model_module_version": "1.5.0",
          "state": {
            "_view_name": "ProgressView",
            "style": "IPY_MODEL_4a6f6d414ee447a7bf1c1366173b0b75",
            "_dom_classes": [],
            "description": "",
            "_model_name": "FloatProgressModel",
            "bar_style": "success",
            "max": 1,
            "_view_module": "@jupyter-widgets/controls",
            "_model_module_version": "1.5.0",
            "value": 1,
            "_view_count": null,
            "_view_module_version": "1.5.0",
            "orientation": "horizontal",
            "min": 0,
            "description_tooltip": null,
            "_model_module": "@jupyter-widgets/controls",
            "layout": "IPY_MODEL_177a9e88760a4df7a325fc0705836044"
          }
        },
        "3afdc917f1e34848a0715299af670a6c": {
          "model_module": "@jupyter-widgets/controls",
          "model_name": "HTMLModel",
          "model_module_version": "1.5.0",
          "state": {
            "_view_name": "HTMLView",
            "style": "IPY_MODEL_1922719aa648419498943cfd12101039",
            "_dom_classes": [],
            "description": "",
            "_model_name": "HTMLModel",
            "placeholder": "​",
            "_view_module": "@jupyter-widgets/controls",
            "_model_module_version": "1.5.0",
            "value": " 927/? [00:00&lt;00:00, 10492.10it/s]",
            "_view_count": null,
            "_view_module_version": "1.5.0",
            "description_tooltip": null,
            "_model_module": "@jupyter-widgets/controls",
            "layout": "IPY_MODEL_09aa506631034c43b142562fbcd6cf5b"
          }
        },
        "49ab32c620864990b77de07a46b92d0c": {
          "model_module": "@jupyter-widgets/controls",
          "model_name": "DescriptionStyleModel",
          "model_module_version": "1.5.0",
          "state": {
            "_view_name": "StyleView",
            "_model_name": "DescriptionStyleModel",
            "description_width": "",
            "_view_module": "@jupyter-widgets/base",
            "_model_module_version": "1.5.0",
            "_view_count": null,
            "_view_module_version": "1.2.0",
            "_model_module": "@jupyter-widgets/controls"
          }
        },
        "e647209ef8b843989bce53e24ac7dac8": {
          "model_module": "@jupyter-widgets/base",
          "model_name": "LayoutModel",
          "model_module_version": "1.2.0",
          "state": {
            "_view_name": "LayoutView",
            "grid_template_rows": null,
            "right": null,
            "justify_content": null,
            "_view_module": "@jupyter-widgets/base",
            "overflow": null,
            "_model_module_version": "1.2.0",
            "_view_count": null,
            "flex_flow": null,
            "width": null,
            "min_width": null,
            "border": null,
            "align_items": null,
            "bottom": null,
            "_model_module": "@jupyter-widgets/base",
            "top": null,
            "grid_column": null,
            "overflow_y": null,
            "overflow_x": null,
            "grid_auto_flow": null,
            "grid_area": null,
            "grid_template_columns": null,
            "flex": null,
            "_model_name": "LayoutModel",
            "justify_items": null,
            "grid_row": null,
            "max_height": null,
            "align_content": null,
            "visibility": null,
            "align_self": null,
            "height": null,
            "min_height": null,
            "padding": null,
            "grid_auto_rows": null,
            "grid_gap": null,
            "max_width": null,
            "order": null,
            "_view_module_version": "1.2.0",
            "grid_template_areas": null,
            "object_position": null,
            "object_fit": null,
            "grid_auto_columns": null,
            "margin": null,
            "display": null,
            "left": null
          }
        },
        "4a6f6d414ee447a7bf1c1366173b0b75": {
          "model_module": "@jupyter-widgets/controls",
          "model_name": "ProgressStyleModel",
          "model_module_version": "1.5.0",
          "state": {
            "_view_name": "StyleView",
            "_model_name": "ProgressStyleModel",
            "description_width": "",
            "_view_module": "@jupyter-widgets/base",
            "_model_module_version": "1.5.0",
            "_view_count": null,
            "_view_module_version": "1.2.0",
            "bar_color": null,
            "_model_module": "@jupyter-widgets/controls"
          }
        },
        "177a9e88760a4df7a325fc0705836044": {
          "model_module": "@jupyter-widgets/base",
          "model_name": "LayoutModel",
          "model_module_version": "1.2.0",
          "state": {
            "_view_name": "LayoutView",
            "grid_template_rows": null,
            "right": null,
            "justify_content": null,
            "_view_module": "@jupyter-widgets/base",
            "overflow": null,
            "_model_module_version": "1.2.0",
            "_view_count": null,
            "flex_flow": null,
            "width": "20px",
            "min_width": null,
            "border": null,
            "align_items": null,
            "bottom": null,
            "_model_module": "@jupyter-widgets/base",
            "top": null,
            "grid_column": null,
            "overflow_y": null,
            "overflow_x": null,
            "grid_auto_flow": null,
            "grid_area": null,
            "grid_template_columns": null,
            "flex": null,
            "_model_name": "LayoutModel",
            "justify_items": null,
            "grid_row": null,
            "max_height": null,
            "align_content": null,
            "visibility": null,
            "align_self": null,
            "height": null,
            "min_height": null,
            "padding": null,
            "grid_auto_rows": null,
            "grid_gap": null,
            "max_width": null,
            "order": null,
            "_view_module_version": "1.2.0",
            "grid_template_areas": null,
            "object_position": null,
            "object_fit": null,
            "grid_auto_columns": null,
            "margin": null,
            "display": null,
            "left": null
          }
        },
        "1922719aa648419498943cfd12101039": {
          "model_module": "@jupyter-widgets/controls",
          "model_name": "DescriptionStyleModel",
          "model_module_version": "1.5.0",
          "state": {
            "_view_name": "StyleView",
            "_model_name": "DescriptionStyleModel",
            "description_width": "",
            "_view_module": "@jupyter-widgets/base",
            "_model_module_version": "1.5.0",
            "_view_count": null,
            "_view_module_version": "1.2.0",
            "_model_module": "@jupyter-widgets/controls"
          }
        },
        "09aa506631034c43b142562fbcd6cf5b": {
          "model_module": "@jupyter-widgets/base",
          "model_name": "LayoutModel",
          "model_module_version": "1.2.0",
          "state": {
            "_view_name": "LayoutView",
            "grid_template_rows": null,
            "right": null,
            "justify_content": null,
            "_view_module": "@jupyter-widgets/base",
            "overflow": null,
            "_model_module_version": "1.2.0",
            "_view_count": null,
            "flex_flow": null,
            "width": null,
            "min_width": null,
            "border": null,
            "align_items": null,
            "bottom": null,
            "_model_module": "@jupyter-widgets/base",
            "top": null,
            "grid_column": null,
            "overflow_y": null,
            "overflow_x": null,
            "grid_auto_flow": null,
            "grid_area": null,
            "grid_template_columns": null,
            "flex": null,
            "_model_name": "LayoutModel",
            "justify_items": null,
            "grid_row": null,
            "max_height": null,
            "align_content": null,
            "visibility": null,
            "align_self": null,
            "height": null,
            "min_height": null,
            "padding": null,
            "grid_auto_rows": null,
            "grid_gap": null,
            "max_width": null,
            "order": null,
            "_view_module_version": "1.2.0",
            "grid_template_areas": null,
            "object_position": null,
            "object_fit": null,
            "grid_auto_columns": null,
            "margin": null,
            "display": null,
            "left": null
          }
        }
      }
    }
  },
  "cells": [
    {
      "cell_type": "code",
      "metadata": {
        "id": "Vht4UWkaH369"
      },
      "source": [
        "# This script is for separating the text in each article section wise"
      ],
      "execution_count": null,
      "outputs": []
    },
    {
      "cell_type": "code",
      "metadata": {
        "id": "7df4KEBT-BhR",
        "colab": {
          "base_uri": "https://localhost:8080/"
        },
        "outputId": "e43cc091-e0a2-4039-d52c-de4466e5b79e"
      },
      "source": [
        "import nltk\n",
        "nltk.download('punkt')\n",
        "import json\n",
        "from tqdm.notebook import tqdm\n",
        "import os\n",
        "import matplotlib.pyplot as plt\n",
        "from nltk.tokenize import sent_tokenize, word_tokenize"
      ],
      "execution_count": null,
      "outputs": [
        {
          "output_type": "stream",
          "name": "stdout",
          "text": [
            "[nltk_data] Downloading package punkt to /root/nltk_data...\n",
            "[nltk_data]   Unzipping tokenizers/punkt.zip.\n"
          ]
        }
      ]
    },
    {
      "cell_type": "code",
      "metadata": {
        "id": "pV-KGD_XJvoP"
      },
      "source": [
        "def process(article):\n",
        "  # Divides text in each article section wise\n",
        "  # Here it is assumed that a section starts with '==' and each level of subsection adds more '=' characters\n",
        "  # For now, we are ignoring subsections and only taking sections into consideration\n",
        "\n",
        "  MIN_SECTION_LENGTH = 10   # ignore sections that contain less than 10 characters\n",
        "  \n",
        "  processed_article = []\n",
        "  article = article.split(\"\\n\")\n",
        "  section = 'Introduction'\n",
        "  text = \"\"\n",
        "  \n",
        "  for line in article:\n",
        "    line = line.strip()\n",
        "    line = line.replace('\\n', '')\n",
        "    if len(line) < 3:\n",
        "      continue\n",
        "    if line[0] == '=' and line[1] == '=' and line[2] == '=':\n",
        "      # This denotes a subsection. Ignore this\n",
        "      continue\n",
        "    if line[0] == '=' and line[1] == '=' and line[2] != '=':\n",
        "      # This denotes start of new section\n",
        "      if len(text) >= MIN_SECTION_LENGTH:\n",
        "        processed_article.append({\n",
        "            'section': section,\n",
        "            'text': text \n",
        "        })\n",
        "      line = line.replace('=', '')\n",
        "      section = line.strip()\n",
        "      text = \"\"\n",
        "    else:\n",
        "      text += line\n",
        "  return processed_article"
      ],
      "execution_count": null,
      "outputs": []
    },
    {
      "cell_type": "code",
      "metadata": {
        "colab": {
          "base_uri": "https://localhost:8080/",
          "height": 49,
          "referenced_widgets": [
            "80761bd850a24d86b949ad9b8e9db146",
            "bc8160269b81424eac718cf3e2445bda",
            "509e1e8af2fe4df0b5a99bc1c84eb912",
            "83b5bbe6e24c4a21a06b6cc5350da86b",
            "3afdc917f1e34848a0715299af670a6c",
            "49ab32c620864990b77de07a46b92d0c",
            "e647209ef8b843989bce53e24ac7dac8",
            "4a6f6d414ee447a7bf1c1366173b0b75",
            "177a9e88760a4df7a325fc0705836044",
            "1922719aa648419498943cfd12101039",
            "09aa506631034c43b142562fbcd6cf5b"
          ]
        },
        "id": "AfUnJKTUFQ4e",
        "outputId": "d452cefe-a56a-411d-dcfe-0f4d43c50002"
      },
      "source": [
        "domain = 'cricketers'\n",
        "file_name = domain + '_data.json'\n",
        "with open(file_name) as f:\n",
        "  data = json.load(f)\n",
        "\n",
        "for idx, item in tqdm(enumerate(data)):\n",
        "  article = process(item['article'])\n",
        "  data[idx]['article'] = article\n"
      ],
      "execution_count": null,
      "outputs": [
        {
          "output_type": "display_data",
          "data": {
            "application/vnd.jupyter.widget-view+json": {
              "model_id": "80761bd850a24d86b949ad9b8e9db146",
              "version_minor": 0,
              "version_major": 2
            },
            "text/plain": [
              "0it [00:00, ?it/s]"
            ]
          },
          "metadata": {}
        }
      ]
    },
    {
      "cell_type": "code",
      "metadata": {
        "id": "gvbbXQiLFRxe"
      },
      "source": [
        "if not os.path.isdir('section_wise_data/'):\n",
        "  os.makedirs('section_wise_data')\n",
        "\n",
        "output_file = \"section_wise_data/\" + domain + \"_data.json\"\n",
        "with open(output_file, 'w') as f:\n",
        "  f.write(json.dumps(data))"
      ],
      "execution_count": null,
      "outputs": []
    },
    {
      "cell_type": "code",
      "metadata": {
        "colab": {
          "base_uri": "https://localhost:8080/",
          "height": 266
        },
        "id": "nc-1G5CsOTUl",
        "outputId": "b73b5d6e-3c30-48ea-b144-40572786a93f"
      },
      "source": [
        "domain = 'superheroes'\n",
        "file_name = 'section_wise_data/' + domain + '_data.json'\n",
        "with open(file_name) as f:\n",
        "  data = json.load(f)\n",
        "\n",
        "freq = {}           # stores average number of sentence in each section\n",
        "total = 0\n",
        "for item in data:\n",
        "  article = item['article']\n",
        "  found = False\n",
        "  for section in article:\n",
        "    section_name = section['section']\n",
        "    text = section['text']\n",
        "    if text == []:\n",
        "      continue\n",
        "    found = True\n",
        "    sentences_num = len(sent_tokenize(text))\n",
        "    if section_name not in freq.keys():\n",
        "      freq[section_name] = 0\n",
        "    freq[section_name] += sentences_num\n",
        "  if found:\n",
        "    total += 1\n",
        "for key in freq.keys():\n",
        "  freq[key] /= total\n",
        "\n",
        "plt.bar(*zip(*freq.items()))\n",
        "plt.show()"
      ],
      "execution_count": null,
      "outputs": [
        {
          "output_type": "display_data",
          "data": {
            "image/png": "[encoded data removed]",
            "text/plain": [
              "<Figure size 432x288 with 1 Axes>"
            ]
          },
          "metadata": {
            "needs_background": "light"
          }
        }
      ]
    },
    {
      "cell_type": "code",
      "metadata": {
        "id": "hW6pnhy6cynK"
      },
      "source": [
        ""
      ],
      "execution_count": null,
      "outputs": []
    }
  ]
}