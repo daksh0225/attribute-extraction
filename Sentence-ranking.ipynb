{
 "cells": [
  {
   "cell_type": "code",
   "execution_count": 196,
   "id": "accepting-warrior",
   "metadata": {},
   "outputs": [],
   "source": [
    "import json\n",
    "from tqdm.notebook import tqdm\n",
    "import nltk\n",
    "from nltk.tokenize import word_tokenize\n",
    "from nltk.corpus import stopwords\n",
    "from nltk.collocations import *\n",
    "from nltk.util import ngrams\n",
    "import collections\n",
    "import re"
   ]
  },
  {
   "cell_type": "code",
   "execution_count": 15,
   "id": "skilled-bahamas",
   "metadata": {},
   "outputs": [],
   "source": [
    "sw = list(stopwords.words('english'))"
   ]
  },
  {
   "cell_type": "code",
   "execution_count": 2,
   "id": "sapphire-disco",
   "metadata": {},
   "outputs": [],
   "source": [
    "names = ['Batman', 'Conan', 'Fantastic-Four', 'Lex-Luthor', 'Lois-Lane']"
   ]
  },
  {
   "cell_type": "code",
   "execution_count": 3,
   "id": "traditional-soldier",
   "metadata": {},
   "outputs": [],
   "source": [
    "data = []"
   ]
  },
  {
   "cell_type": "code",
   "execution_count": 4,
   "id": "distant-destination",
   "metadata": {},
   "outputs": [],
   "source": [
    "for name in names:\n",
    "    file = open('./qna_data/'+name+'_qna.json')\n",
    "    json_data = json.load(file)\n",
    "    file.close()\n",
    "    data.append(json_data)"
   ]
  },
  {
   "cell_type": "code",
   "execution_count": 67,
   "id": "played-majority",
   "metadata": {},
   "outputs": [],
   "source": [
    "pronouns = ['he', 'she', 'herself', 'himself', 'they', 'themselves', 'him', 'her']\n",
    "titles = ['Batman', 'Conan', 'Fantastic', 'Four', 'Lex', 'Luthor', 'Lois', 'Lane']\n",
    "stopwords = ['the', 'is', 'a', 'an', 'was', 'in']"
   ]
  },
  {
   "cell_type": "code",
   "execution_count": 68,
   "id": "realistic-parks",
   "metadata": {},
   "outputs": [],
   "source": [
    "questions = []"
   ]
  },
  {
   "cell_type": "code",
   "execution_count": 69,
   "id": "bibliographic-sessions",
   "metadata": {},
   "outputs": [],
   "source": [
    "for d in data:\n",
    "    for qna in d:\n",
    "        questions.append(qna['question'])"
   ]
  },
  {
   "cell_type": "code",
   "execution_count": 70,
   "id": "seeing-blend",
   "metadata": {},
   "outputs": [],
   "source": [
    "new_questions = []"
   ]
  },
  {
   "cell_type": "code",
   "execution_count": 71,
   "id": "still-culture",
   "metadata": {},
   "outputs": [
    {
     "data": {
      "application/vnd.jupyter.widget-view+json": {
       "model_id": "c63dff6c96674609bad70c77c3a9ad52",
       "version_major": 2,
       "version_minor": 0
      },
      "text/plain": [
       "  0%|          | 0/303 [00:00<?, ?it/s]"
      ]
     },
     "metadata": {},
     "output_type": "display_data"
    }
   ],
   "source": [
    "for q in tqdm(questions):\n",
    "    words = q.split(' ')\n",
    "    new_words = []\n",
    "    for word in words:\n",
    "        if word in titles or word in pronouns:\n",
    "            new_words.append('<title>')\n",
    "        else:\n",
    "            flag = False\n",
    "            for title in titles:\n",
    "                if word not in stopwords and (title in word or word in title):\n",
    "                    new_words.append('<title>')\n",
    "                    flag = True\n",
    "                    break\n",
    "            if flag == False:\n",
    "                new_words.append(word)\n",
    "    new_question = (' ').join(new_words)\n",
    "    new_questions.append(new_question)"
   ]
  },
  {
   "cell_type": "code",
   "execution_count": 72,
   "id": "opposite-authorization",
   "metadata": {},
   "outputs": [],
   "source": [
    "new_questions.sort(reverse=True)"
   ]
  },
  {
   "cell_type": "code",
   "execution_count": 73,
   "id": "indian-albuquerque",
   "metadata": {},
   "outputs": [],
   "source": [
    "nq = []"
   ]
  },
  {
   "cell_type": "code",
   "execution_count": 74,
   "id": "resident-clark",
   "metadata": {},
   "outputs": [],
   "source": [
    "for q in new_questions:\n",
    "    q = re.sub('(<title> *)+', '<title> ', q)\n",
    "    nq.append(q)"
   ]
  },
  {
   "cell_type": "code",
   "execution_count": 101,
   "id": "usual-greek",
   "metadata": {},
   "outputs": [],
   "source": [
    "q_text = (' ').join(nq)\n",
    "q_text = q_text.split(' ')"
   ]
  },
  {
   "cell_type": "code",
   "execution_count": 90,
   "id": "cheap-writer",
   "metadata": {
    "collapsed": true
   },
   "outputs": [
    {
     "data": {
      "text/plain": [
       "'Why does <title> want to rid the world of Superman? Whose hatred of Superman came later in the character\\'s development? Whose dirigible does Superman destroy with <title> still <title> it? Whose death became common in his earliest appearances? Who wrote the Afterword for The Complete Chronicles of <title>  Who wrote more <title> stories for Weird Tales? Who wrote in The Comics Journal that his existence does not assert its place in the creation? Who wrote The Outline of Mythology? Who wrote The Outline of Mythology? Who wrote <title>  Who wore a red union suit? Who were <title> parents? Who wears a Warsuit? Who was working for Marvel in 1968? Who was the writer of Action Comics # 1? Who was the original version of? Who was the original art model for Superman? Who was the most powerful kingdom of the Hyborian Age? Who was the fictional setting for the Hyborian Age? Who was depicted bombarding Superman with radiation from a cyclotron? Who was Shuster\\'s character? Who was <title> based off of? Who was <title> a recurring mad scientist foe of? Who was <title> a recurring mad scientist foe of? Who voiced <title> in Superman : The Animated Series? Who vanished for a long time? Who thinks <title> will be Superman by the time <title> gets out? Who returns in Superman No? Who returns in Superman No? Who received a \"created by\" credit <title> Superman titles in the late 1970s? Who ranked the character 8th Greatest Villain <title> IGN\\'s 100 Greatest Villains of All Time list? Who publishes the comics of Alexander Joseph <title>  Who publishes the <title> comics? Who publishes <title> comic books? Who publishes <title> comic books? Who provided the voice for the character? Who portrayed <title> in the 2000s series Smallville? Who portrayed <title> in the 1990s television series? Who plays Superman & <title>  Who played Torchy Blane in the Warner Bros. films? Who played Torchy Blane in a series of films? Who played Superman in the DC Extended Universe? Who played Superman in the 1970s and 1980s? Who played <title> in the 1960s television series? Who modeled <title> hairstyle and facial features? Who made <title> debut in Action Comics # 1? Who kills <title>  Who is the primary love interest of Superman? Who is the leader of the <title>  Who is the leader of the <title>  Who is the dancing girl in Jewels of Gwahlur? Who is the current Superboy in the DC Universe? Who is rescued? Who is one of the best known female comic book characters? Who is killed by the dinosaurs <title> created? Who is a fictional supervillain in comic books? Who is a fictional character in comic books? Who is a corrupt financier? Who is Superman\\'s alter ego? Who is <title> intellectually equal to? Who hired Joanne Carter? Who hired Joanne Carter? Who hired <title> a model? Who has shown obtaining superpowers and becoming a superhero? Who has portrayed the character in television series? Who handled <title> character? Who fights Superman with a green ray? Who drew inspiration from 1930s popular culture? Who does Superman defeat? Who does <title> rescue without hesitation? Who does <title> have a strong tendency to save in distress? Who directed the 1986 miniseries? Who did Shuster hire <title> a model for? Who did Shuster hire <title> a model for? Who did Lee say conceived the team? Who did Lee mention in preparation of his synopsis? Who did Joe Shuster work for? Who did Joe Shuster base <title> appearance on? Who did I write a synopsis for? Who did Carter say was redrawing the strip for <title>  Who destroys <title> dirigible with <title> still <title> it? Who defeats Superman? Who defeats <title>  Who creates a city <title> the Lost continent of Pacifo? Who created the first superhero team? Who created the characters visually? Who created the Scarlet Pimpernel? Who created the <title> - Man? Who created Zorro? Who created Wonder Woman? Who created <title> the Barbarian? Who created <title>  Who claims <title> came up with the idea for the <title>  Who believes the <title> was a continuation of Kirby\\'s work? Who believed <title> was a forerunner of the more famous character? Who based <title> physical appearance <title> a model named Joanne Carter? Who based <title> physical appearance <title> a model named Joanne Carter? Who argues that Lee\\'s contributions set the framework within which Kirby worked? Who are <title> parents? Who altered <title> backstory in 1960? Which actress voiced <title> in Fleischer Superman? Which actor has provided <title> voice in animated films? Which DC character has been featured in many comic books? Where were <title> parents farmers? Where was theversion of <title> introduced? Where was theversion of <title> introduced? Where was theversion of <title> introduced? Where was theversion of <title> introduced? Where was theversion of <title> introduced? Where was theversion of <title> introduced? Where was <title> depicted with auburn hair from the late 1980\\'s through the 1990\\'s? Where was <title> born? Where is <title> city located? Where does Bruce Wayne reside? Where does <title> live? Where did the name of the author of a story disappear in the mid-1960s? Where did the character rank <title> Wizard\\'s 100 Greatest Villains of All Time list? Where did the character rank <title> IGN\\'s list of the Top 100 Comic Book Villains of All Time? Where did <title> first appear? Where did <title> first appear? Where are some of <title> superhero identities located? When was the character created? When was the Superman comic strip pulled? When was The <title> # 1 released? When was <title> the Barbarian published? When was \\'The Phoenix <title> the Sword\\' released? When did the copyright holders allow Howard\\'s stories to go out of print? When did the <title> first appear? When did the <title> debut? When did Nowak depict <title> significantly heavier? When did Kane write his autobiography? When did <title> receive his own spin off publication? When did <title> first appear in Action Comics #1? When did <title> first appear in Action Comics #1? When did <title> begin? What were the stories restored to chronological order as? What was the title of the first issue of American Idol? What was the title of <title> of Cimmeria : Volume Two? What was the slogan of the third issue? What was the slogan of the third issue? What was the name of the new character <title> replaced Kull of Atlantis with? What was the name of the first volume of <title> of Cimmeria published in the US? What was the name of the first comic <title> appeared in? What was the name of the book that followed The Bloody Crown of <title>  What was the name of the 1992 film that featured Michael Keaton <title>  What was the name of the 1992 film that featured Michael Keaton <title>  What was the name of the 1992 film that featured Michael Keaton <title>  What was the name of the 1992 film that featured Michael Keaton <title>  What was the name of the 1992 film that featured Michael Keaton <title>  What was the name of my character that appealed to me? What was the name of his first story? What was the name of his first story? What was the name of each comic book\\'s writer and artists replaced by? What was the name of Kane\\'s superhero? What was the name of Kane\\'s superhero? What was the name of <title> spin off publication? What was the name of <title> newspaper comic strip? What was the name of <title> first comic book? What was the name of <title> first comic book? What was the first <title> story to integrate his new conception of the Hyborian world? What was the fictional setting for <title>  What was Howard struck by after the film\\'s death? What was Bruce Wayne\\'s first name? What was Bruce Wayne\\'s first name? What was <title> reaction to Superman? What was <title> profession? What was <title> originally introduced as? What was <title> last name? What was <title> heroine\\'s priority? What was <title> father\\'s occupation? What was <title> father\\'s occupation? What was <title> design confused with in Superman No? What was <title> depicted <title> in a newspaper strip? What was <title> originally depicted as? What video game is based <title>  What type of person is <title>  What type of hair was <title> depicted with in comic books? What television series has been adapted in live action and animated incarnations? What television series has been adapted in live action and animated incarnations? What publisher published Howard\\'s <title> stories in 2000? What publisher made an effort to restore Howard\\'s original manuscripts? What planet is Galactus on? What newspaper does <title> work for? What newspaper does <title> work for? What magazine did Robert E. Howard create the character for? What kind of monsters did Howard encounter? What kind of mail did the title begin to receive? What issue number did Lee start printing the letters in a letter column with? What is the plan to place in the offices of influential people? What is the name of the young adult novel series by Gwenda Bond? What is the name of the superhero that appears in comic books? What is the name of the movie in which Muriela has to make a split second decision about saving the dancing girl <title> the chest of precious gem What is the name of the fictional superhero team that appears in comic books? What is the name of the book where <title> adventures take place? What is the name of <title> younger sister? What is the name of <title> next movie? What is the name of <title> next movie? What is the name of <title> next movie? What is the name of <title> next movie? What is the name of <title> next appearance? What is the longest running <title> comic in the US? What is suspended in the city? What is one of the most iconic characters in popular culture? What is one of the most commercially successful superheroes? What is one of a few genre - crossing villains whose adventures take place \"in a world where the ordinary laws of nature are slightly What is mandatory <title> all <title> comics? What is included in these three volumes? What is a conspicuous element of <title> character? What is <title> the Barbarian? What is <title> only referred to by? What is <title> motivation for performing heroic feats? What is <title> alias? What has influenced <title> physical appearance over the years? What has been mentioned several times over the course of the character\\'s history? What film influenced Kane\\'s character\\'s iconography? What fictional reporter was Jerry Siegel inspired by? What fictional reporter did Glenda Farrell portray? What exists for the introductory segment of the first <title> issue? What does <title> swear against criminals? What does <title> rely <title> instead of superpowers? What does <title> perform in his adventures? What does <title> do when <title> is in a robber gang? What does <title> do when <title> is in a robber gang? What does <title> do when <title> is in a robber gang? What did the <title> originally wear instead of uniforms? What did Shuster model <title>  What did Lee call his quartet after kicking it around with Martin and Jack for a while? What did Finger recommend from the original costume? What did Bill put <title> to make <title> look more like a bat? What did Bill put <title> to make <title> look more like a bat? What did Bill put <title> to make <title> look more like a bat? What did Bill put <title> to make <title> look more like a bat? What did Bat-Man\\'s wings look like when <title> was fighting <title> swinging down <title> a rope? What did Bat-Man\\'s wings look like when <title> was fighting <title> swinging down <title> a rope? What did <title> not have <title> him? What did <title> look like in his Golden Age incarnation? What deity does <title> swear by? What company is <title> CEO of? What color were <title> eyes? What color hair does <title> have? What character is remarkably similar to the real life personality of my lovely wife? What character first appeared in Action Comics No? What character did Lola <title> play? What character did Jean - Paul Valley/ Azrael take on? What book may have inspired Howard to coalesce into a coherent whole? What book inspired Howard to write more <title> stories for Weird Tales? What are two organizations that <title> is a member of? What are two organizations that <title> is a member of? What are two of DC\\'s imprints? What alternate version of <title> has been featured in DC comics? What age is <title> in his earliest appearances? What aesthetic did the 1960s <title> television series use? What actress did Siegel take <title> name from? What actress did Siegel take <title> name from? What actress did I call my character <title>  What actress did <title> look like in the 1990s? What DC supervillain team does <title> lead? What Arrowverse series does Elizabeth Tulloch play? Wells argues that Lee\\'s contributions set the framework within which who worked? We added gloves so that <title> wouldn\\'t leave what? To me, who was she? Superboy thinks <title> will be what by the time <title> gets out? Ronan the Accuser is a member of what empire? R.C. Harvey believes that the <title> was more likely to have been created by Kirby than who? Lyle Talbot, Gene Hackman, Kevin Spacey, and Jesse Eisenberg have portrayed the character in what? Instead of anonymity <title> secret identities, what did comic archetype members prefer? In what year was The Mark of Zorro released? In what year did Lee provide one of his earliest recorded comments <title> the creation of the <title> for a fanzine? In what year did Lee confirm his involvement in the <title>  In what year did Gollancz Science Fiction release a two volume, complete edition of Howard\\'s <title> stories? In what year did Frank Miller create a miniseries? In what form of media has the character been depicted? In what film does <title> save Lady Belesa? In what decade did Kane and Finger draw inspiration from popular culture? How old was <title> when <title> was born? How many stiff wings did <title> have? How many copies of The <title> were released? How many bat wings did the cape have? How many animated series has The <title> been adapted into? How many animated series has The <title> been adapted into? How many <title> members are there? How long did Howard\\'s <title> stories remain out of print? He has endured <title> the archenemy of what superhero? From what comics has <title> been seen in alternate incarnations? During what era did <title> roam <title> a thief, outlaw, mercenary, and pirate? At what age was <title> a respected warrior? Aside from the comic book writers handling of <title> what other factors have influenced <title> personality? As <title> grew older, <title> began commanding vast units of what kind of troops? Along with thief, outlaw, mercenary, and mercenary, what was <title> also known as? Along with the Justice League and the Outsiders, what other DC superheroes are often depicted alongside <title>  Along with other superheroes in the DC Universe, who has <title> often clashed with? Along with civilian garb, what building was introduced in the third issue of the <title>  Along with The Shadow, Dick Tracy, and Sherlock Holmes, what pulp hero inspired Finger? Along with Kevin Conroy, Jason O\\'Mara, and Jason O\\'Mara, who provided the character\\'s voice? Along with Jerry Siegel, what artist created the character? Along with Jerry Siegel, what artist created the character? Along with Jack Kirby, who created the first superhero team? <title> relies <title> his intellect, fighting skills, and what else? <title> has been portrayed <title> an antihero who will ally <title> with whom? <title> design was confused with that of a bald henchman in what movie? <title> averted suspicion by playing what in public? <title> averted suspicion by playing what in public? <title> Girl Reporter was a direct spin off of what comic strip?'"
      ]
     },
     "execution_count": 90,
     "metadata": {},
     "output_type": "execute_result"
    }
   ],
   "source": [
    "q_text"
   ]
  },
  {
   "cell_type": "code",
   "execution_count": 184,
   "id": "instrumental-version",
   "metadata": {},
   "outputs": [],
   "source": [
    "creature_filter = lambda *w: '<title>' not in w"
   ]
  },
  {
   "cell_type": "code",
   "execution_count": 209,
   "id": "starting-emission",
   "metadata": {},
   "outputs": [],
   "source": [
    "trigram_measures = nltk.collocations.TrigramAssocMeasures()"
   ]
  },
  {
   "cell_type": "code",
   "execution_count": 210,
   "id": "hungarian-movement",
   "metadata": {},
   "outputs": [],
   "source": [
    "finder = TrigramCollocationFinder.from_words(q_text)"
   ]
  },
  {
   "cell_type": "code",
   "execution_count": 211,
   "id": "united-industry",
   "metadata": {},
   "outputs": [],
   "source": [
    "finder.apply_ngram_filter(creature_filter)\n",
    "# finder.apply_word_filter(creature_filter)"
   ]
  },
  {
   "cell_type": "code",
   "execution_count": 212,
   "id": "stylish-tonight",
   "metadata": {},
   "outputs": [],
   "source": [
    "# print (finder.nbest(trigram_measures.likelihood_ratio, 10))"
   ]
  },
  {
   "cell_type": "code",
   "execution_count": 213,
   "id": "smooth-promise",
   "metadata": {},
   "outputs": [],
   "source": [
    "collocs = []"
   ]
  },
  {
   "cell_type": "code",
   "execution_count": 214,
   "id": "wrong-lounge",
   "metadata": {},
   "outputs": [],
   "source": [
    "for i, q in enumerate(finder.score_ngrams(trigram_measures.likelihood_ratio)):\n",
    "    collocs.append(q)"
   ]
  },
  {
   "cell_type": "code",
   "execution_count": 215,
   "id": "developing-memorabilia",
   "metadata": {},
   "outputs": [
    {
     "data": {
      "text/plain": [
       "443"
      ]
     },
     "execution_count": 215,
     "metadata": {},
     "output_type": "execute_result"
    }
   ],
   "source": [
    "len(collocs)"
   ]
  },
  {
   "cell_type": "code",
   "execution_count": 216,
   "id": "filled-conversation",
   "metadata": {},
   "outputs": [
    {
     "data": {
      "text/plain": [
       "[(('name', 'of', '<title>'), 218.94065245717712),\n",
       " (('Keaton', '<title>', ''), 175.7994046104684),\n",
       " (('<title>', '', 'Who'), 169.16690662994046),\n",
       " (('What', 'was', '<title>'), 166.5567239185693),\n",
       " (('<title>', '', 'What'), 164.6955714648885),\n",
       " (('of', '<title>', ''), 149.8880495287414),\n",
       " (('based', '<title>', ''), 139.70962205053036),\n",
       " (('<title>', '', 'Along'), 138.47250461677726),\n",
       " (('&', '<title>', ''), 137.3413010124534),\n",
       " (('Joseph', '<title>', ''), 137.3413010124534),\n",
       " (('alongside', '<title>', ''), 137.3413010124534),\n",
       " (('kills', '<title>', ''), 137.3413010124534),\n",
       " (('for', '<title>', ''), 137.24509584757828),\n",
       " (('the', '<title>', ''), 134.9481450168731),\n",
       " (('defeats', '<title>', ''), 134.73851588470978),\n",
       " (('is', '<title>', ''), 132.9971655849427),\n",
       " (('model', '<title>', ''), 132.78424393569077),\n",
       " (('wrote', '<title>', ''), 132.78424393569077),\n",
       " (('<title>', '', 'In'), 131.84079839030323),\n",
       " (('created', '<title>', ''), 130.7029057419202),\n",
       " (('character', '<title>', ''), 130.05047054196618),\n",
       " (('Who', 'does', '<title>'), 106.34351050140043),\n",
       " (('What', 'is', '<title>'), 101.92401456896887),\n",
       " (('Michael', 'Keaton', '<title>'), 98.02606132962565),\n",
       " (('<title>', 'introduced?', 'Where'), 93.52411521238272),\n",
       " (('Who', 'is', '<title>'), 90.92861566482229),\n",
       " (('does', '<title>', 'do'), 90.3305633416882),\n",
       " (('Who', 'wrote', '<title>'), 85.95370880357935),\n",
       " (('<title>', 'comic', 'books?'), 85.27565113046967),\n",
       " (('Who', 'created', '<title>'), 84.638945687292),\n",
       " (('What', 'does', '<title>'), 81.72848422883274),\n",
       " (('Who', 'was', '<title>'), 81.28349028683638),\n",
       " (('Bill', 'put', '<title>'), 80.19053892300437),\n",
       " (('of', '<title>', 'introduced?'), 79.95008847180375),\n",
       " (('theversion', 'of', '<title>'), 79.95008847180375),\n",
       " (('does', '<title>', 'swear'), 79.7412641250094),\n",
       " (('Who', 'played', '<title>'), 78.8024823822495),\n",
       " (('Where', 'does', '<title>'), 78.38891776972731),\n",
       " (('does', '<title>', 'work'), 76.09528943949704),\n",
       " (('<title>', 'next', 'movie?'), 75.39687604239253),\n",
       " (('newspaper', 'does', '<title>'), 74.54237458813759),\n",
       " (('Who', 'publishes', '<title>'), 72.34126119485981),\n",
       " (('How', 'many', '<title>'), 71.49102631608946),\n",
       " (('of', '<title>', 'next'), 69.99339738707451),\n",
       " (('Why', 'does', '<title>'), 69.29420028250175),\n",
       " (('deity', 'does', '<title>'), 69.29420028250175),\n",
       " (('does', '<title>', 'lead?'), 69.29420028250175),\n",
       " (('does', '<title>', 'live?'), 69.29420028250175),\n",
       " (('does', '<title>', 'perform'), 69.29420028250175),\n",
       " (('does', '<title>', 'rely'), 69.29420028250175)]"
      ]
     },
     "execution_count": 216,
     "metadata": {},
     "output_type": "execute_result"
    }
   ],
   "source": [
    "collocs[:50]"
   ]
  },
  {
   "cell_type": "code",
   "execution_count": 203,
   "id": "skilled-first",
   "metadata": {},
   "outputs": [],
   "source": [
    "trigrams = ngrams(q_text, 4)"
   ]
  },
  {
   "cell_type": "code",
   "execution_count": 204,
   "id": "historic-delhi",
   "metadata": {},
   "outputs": [],
   "source": [
    "trigramFreq = collections.Counter(trigrams)"
   ]
  },
  {
   "cell_type": "code",
   "execution_count": 208,
   "id": "senior-subdivision",
   "metadata": {},
   "outputs": [
    {
     "data": {
      "text/plain": [
       "[(('What', 'was', 'the', 'name'), 19),\n",
       " (('was', 'the', 'name', 'of'), 19),\n",
       " (('the', 'name', 'of', 'the'), 15),\n",
       " (('What', 'is', 'the', 'name'), 11),\n",
       " (('is', 'the', 'name', 'of'), 11),\n",
       " (('the', 'name', 'of', '<title>'), 10),\n",
       " (('<title>', '', 'What', 'was'), 7),\n",
       " (('Where', 'was', 'theversion', 'of'), 6),\n",
       " (('was', 'theversion', 'of', '<title>'), 6),\n",
       " (('theversion', 'of', '<title>', 'introduced?'), 6),\n",
       " (('of', '<title>', 'introduced?', 'Where'), 6),\n",
       " (('<title>', 'introduced?', 'Where', 'was'), 6),\n",
       " (('', 'What', 'was', 'the'), 6),\n",
       " (('introduced?', 'Where', 'was', 'theversion'), 5),\n",
       " (('name', 'of', 'the', '1992'), 5),\n",
       " (('of', 'the', '1992', 'film'), 5),\n",
       " (('the', '1992', 'film', 'that'), 5),\n",
       " (('1992', 'film', 'that', 'featured'), 5),\n",
       " (('film', 'that', 'featured', 'Michael'), 5),\n",
       " (('that', 'featured', 'Michael', 'Keaton'), 5),\n",
       " (('featured', 'Michael', 'Keaton', '<title>'), 5),\n",
       " (('Michael', 'Keaton', '<title>', ''), 5),\n",
       " (('Keaton', '<title>', '', 'What'), 5),\n",
       " (('name', 'of', '<title>', 'next'), 5),\n",
       " (('of', '<title>', 'next', 'movie?'), 4),\n",
       " (('<title>', 'next', 'movie?', 'What'), 4),\n",
       " (('next', 'movie?', 'What', 'is'), 4),\n",
       " (('movie?', 'What', 'is', 'the'), 4),\n",
       " (('What', 'did', 'Bill', 'put'), 4),\n",
       " (('did', 'Bill', 'put', '<title>'), 4),\n",
       " (('Bill', 'put', '<title>', 'to'), 4),\n",
       " (('put', '<title>', 'to', 'make'), 4),\n",
       " (('<title>', 'to', 'make', '<title>'), 4),\n",
       " (('to', 'make', '<title>', 'look'), 4),\n",
       " (('make', '<title>', 'look', 'more'), 4),\n",
       " (('<title>', 'look', 'more', 'like'), 4),\n",
       " (('look', 'more', 'like', 'a'), 4),\n",
       " (('more', 'like', 'a', 'bat?'), 4),\n",
       " (('like', 'a', 'bat?', 'What'), 4),\n",
       " (('a', 'bat?', 'What', 'did'), 4),\n",
       " (('In', 'what', 'year', 'did'), 4),\n",
       " (('<title>', '', 'Who', 'is'), 3),\n",
       " (('', 'Who', 'is', 'the'), 3),\n",
       " (('of', 'the', '<title>', ''), 3),\n",
       " (('the', '<title>', '', 'Who'), 3),\n",
       " (('is', 'one', 'of', 'the'), 3),\n",
       " (('in', 'comic', 'books?', 'What'), 3),\n",
       " (('What', 'is', 'one', 'of'), 3),\n",
       " (('What', 'does', '<title>', 'do'), 3),\n",
       " (('does', '<title>', 'do', 'when'), 3)]"
      ]
     },
     "execution_count": 208,
     "metadata": {},
     "output_type": "execute_result"
    }
   ],
   "source": [
    "trigramFreq.most_common(50)"
   ]
  },
  {
   "cell_type": "code",
   "execution_count": null,
   "id": "outdoor-namibia",
   "metadata": {},
   "outputs": [],
   "source": []
  }
 ],
 "metadata": {
  "kernelspec": {
   "display_name": "Python 3",
   "language": "python",
   "name": "python3"
  },
  "language_info": {
   "codemirror_mode": {
    "name": "ipython",
    "version": 3
   },
   "file_extension": ".py",
   "mimetype": "text/x-python",
   "name": "python",
   "nbconvert_exporter": "python",
   "pygments_lexer": "ipython3",
   "version": "3.8.5"
  }
 },
 "nbformat": 4,
 "nbformat_minor": 5
}
